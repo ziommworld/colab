{
 "cells": [
  {
   "cell_type": "code",
   "execution_count": 1,
   "metadata": {},
   "outputs": [],
   "source": [
    "%load_ext autoreload\n",
    "%autoreload 2\n",
    "\n",
    "# @title TIER 1 - Basic\n",
    "\n",
    "name = \"Kano\"  # @param {type: \"string\"}\n",
    "level = 4  # @param {type: \"slider\", min: 1, max: 10}\n",
    "body_type = \"HUMANOID\"  # @param [\"HUMANOID\", \"BEASTUMANOID\", \"SENTRY\", \"MECHARACHNID\", \"AVIAN\", \"QUADRUPED\"]\n",
    "\n",
    "\n",
    "race = \"SAVAGE\"  # @param [\"PURIST\", \"SAVAGE\", \"ANIMUS\", \"ZBORG\"]\n",
    "alignment = \"SAVAGE\"  # @param [\"PURIST\", \"SAVAGE\", \"ANIMUS\", \"ZBORG\"]\n",
    "\n",
    "props = {\n",
    "    \"name\": name,\n",
    "    \"level\": level,\n",
    "    \"body_type\": body_type,\n",
    "    \"race\": race,\n",
    "    \"alignment\": alignment,\n",
    "}\n",
    "\n",
    "import sys\n",
    "import os\n",
    "import pandas as pd\n",
    "\n",
    "sys.path.append(os.path.abspath(\"../\"))\n",
    "from src.forge.character_builder import CharacterBuilder\n",
    "\n",
    "builder = CharacterBuilder(props, test_mode=True)"
   ]
  },
  {
   "cell_type": "code",
   "execution_count": 3,
   "metadata": {},
   "outputs": [],
   "source": [
    "healty_trait = builder.traits_pool.loc[0]"
   ]
  },
  {
   "cell_type": "code",
   "execution_count": 9,
   "metadata": {},
   "outputs": [
    {
     "data": {
      "text/plain": [
       "(True,\n",
       " (id               healthy\n",
       "  max_stack              4\n",
       "  skills                []\n",
       "  abilities             []\n",
       "  name             Healthy\n",
       "                    ...   \n",
       "  com_block_rat           \n",
       "  com_quick_act           \n",
       "  com_two_hand            \n",
       "  com_rel_cp              \n",
       "  value                1.0\n",
       "  Name: 0, Length: 82, dtype: object,\n",
       "  1,\n",
       "  {'healthy': 1}))"
      ]
     },
     "execution_count": 9,
     "metadata": {},
     "output_type": "execute_result"
    }
   ],
   "source": [
    "builder.set_trait(healty_trait, 1)"
   ]
  },
  {
   "cell_type": "code",
   "execution_count": 10,
   "metadata": {},
   "outputs": [
    {
     "data": {
      "text/plain": [
       "{'mod_total_hp_incr': 1}"
      ]
     },
     "execution_count": 10,
     "metadata": {},
     "output_type": "execute_result"
    }
   ],
   "source": [
    "builder.modifiers"
   ]
  },
  {
   "cell_type": "code",
   "execution_count": 11,
   "metadata": {},
   "outputs": [
    {
     "data": {
      "text/plain": [
       "[('enhance_damage', 3)]"
      ]
     },
     "execution_count": 11,
     "metadata": {},
     "output_type": "execute_result"
    }
   ],
   "source": [
    "builder.items_pool.abilities[144]"
   ]
  },
  {
   "cell_type": "code",
   "execution_count": 22,
   "metadata": {},
   "outputs": [],
   "source": [
    "dfx = pd.read_csv('abilities.csv')\n",
    "# Replace 'NaN' with empty string everywhere\n",
    "dfx = dfx.fillna('')\n",
    "\n",
    "dfx.tail(50)\n",
    "\n",
    "dfx.to_csv(\"abilitiesx.csv\", index=False)"
   ]
  },
  {
   "cell_type": "code",
   "execution_count": null,
   "metadata": {},
   "outputs": [],
   "source": [
    "import sys\n",
    "import os\n",
    "import pandas as pd\n",
    "\n",
    "sys.path.append(os.path.abspath(\"../\"))\n",
    "from src.shared.client import GoogleSheetsClient\n",
    "\n",
    "\n",
    "client = GoogleSheetsClient()"
   ]
  },
  {
   "cell_type": "code",
   "execution_count": null,
   "metadata": {},
   "outputs": [],
   "source": [
    "traits_pool = client.get_df(\n",
    "    \"model\",\n",
    "    \"traits\",\n",
    "    tuple_columns=[\"abilities\"],\n",
    "    list_columns=[\"req_race\", \"req_alignment\", \"req_body_type\"],\n",
    ")"
   ]
  },
  {
   "cell_type": "code",
   "execution_count": null,
   "metadata": {},
   "outputs": [],
   "source": [
    "traits_pool"
   ]
  },
  {
   "cell_type": "code",
   "execution_count": null,
   "metadata": {},
   "outputs": [],
   "source": [
    "base_stats = client.get_dict(\"model\", \"base\")\n",
    "budgets_df = client.get_df(\"model\", \"budget\")"
   ]
  },
  {
   "cell_type": "code",
   "execution_count": null,
   "metadata": {},
   "outputs": [],
   "source": [
    "traits_pool = client.get_df(\n",
    "            \"model\",\n",
    "            \"traits\",\n",
    "            tuple_columns=[\"abilities\"],\n",
    "            list_columns=[\"req_race\", \"req_alignment\", \"req_body_type\"],\n",
    "        )\n",
    "\n",
    "attributes_pool = client.get_df(\n",
    "            \"model\",\n",
    "            \"attributes\",\n",
    "            tuple_columns=[\"abilities\"],\n",
    "            list_columns=[\"req_race\", \"req_alignment\", \"req_body_type\"],\n",
    "        )\n",
    "        \n",
    "items_pool = client.get_df(\n",
    "            \"model\",\n",
    "            \"items\",\n",
    "            tuple_columns=[\"abilities\"],\n",
    "            list_columns=[\"req_race\", \"req_alignment\", \"req_body_type\"],\n",
    "        )\n",
    "\n",
    "skills = client.get_df(\"model\", \"skills\")\n",
    "\n",
    "abilities = client.get_df(\"model\", \"abilities\")"
   ]
  },
  {
   "cell_type": "code",
   "execution_count": null,
   "metadata": {},
   "outputs": [],
   "source": [
    "traits_pool"
   ]
  },
  {
   "cell_type": "code",
   "execution_count": null,
   "metadata": {},
   "outputs": [],
   "source": [
    "import ast\n",
    "\n",
    "def list_converter(cell):\n",
    "    try:\n",
    "        # Remove spaces after commas for proper list conversion\n",
    "        cell = cell.replace(\", \", \",\")\n",
    "        return ast.literal_eval(cell)\n",
    "    except (ValueError, SyntaxError):\n",
    "        # If conversion fails, return the cell as a list with a single string element\n",
    "        return [cell]\n",
    "\n",
    "\n",
    "column = \"req_race\"\n",
    "traits_pool[column] = traits_pool[column].apply(list_converter)\n",
    "traits_pool"
   ]
  }
 ],
 "metadata": {
  "kernelspec": {
   "display_name": "colab",
   "language": "python",
   "name": "python3"
  },
  "language_info": {
   "codemirror_mode": {
    "name": "ipython",
    "version": 3
   },
   "file_extension": ".py",
   "mimetype": "text/x-python",
   "name": "python",
   "nbconvert_exporter": "python",
   "pygments_lexer": "ipython3",
   "version": "3.11.5"
  }
 },
 "nbformat": 4,
 "nbformat_minor": 2
}
