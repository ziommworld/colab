{
 "cells": [
  {
   "cell_type": "code",
   "execution_count": null,
   "metadata": {},
   "outputs": [],
   "source": [
    "# @title TIER 1 - Basic\n",
    "\n",
    "name = \"Kano\" # @param {type: \"string\"}\n",
    "level = 4 # @param {type: \"slider\", min: 1, max: 10}\n",
    "body_type = \"HUMANOID\" # @param [\"HUMANOID\", \"BEASTUMANOID\", \"SENTRY\", \"MECHARACHNID\", \"AVIAN\", \"QUADRUPED\"]\n",
    "\n",
    "\n",
    "race = \"SAVAGE\" #@param [\"PURIST\", \"SAVAGE\", \"ANIMUS\", \"ZBORG\"]\n",
    "alignment = \"SAVAGE\" #@param [\"PURIST\", \"SAVAGE\", \"ANIMUS\", \"ZBORG\"]\n"
   ]
  },
  {
   "cell_type": "code",
   "execution_count": null,
   "metadata": {},
   "outputs": [],
   "source": []
  }
 ],
 "metadata": {
  "kernelspec": {
   "display_name": "colab",
   "language": "python",
   "name": "python3"
  },
  "language_info": {
   "codemirror_mode": {
    "name": "ipython",
    "version": 3
   },
   "file_extension": ".py",
   "mimetype": "text/x-python",
   "name": "python",
   "nbconvert_exporter": "python",
   "pygments_lexer": "ipython3",
   "version": "3.12.0"
  }
 },
 "nbformat": 4,
 "nbformat_minor": 2
}
